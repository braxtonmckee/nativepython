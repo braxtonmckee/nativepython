{
 "cells": [
  {
   "cell_type": "code",
   "execution_count": 1,
   "metadata": {
    "collapsed": false,
    "inputHidden": false,
    "outputHidden": false
   },
   "outputs": [],
   "source": [
    "import random, time\n",
    "from vdom.helpers import div"
   ]
  },
  {
   "cell_type": "code",
   "execution_count": 2,
   "metadata": {
    "collapsed": false,
    "inputHidden": false,
    "outputHidden": false
   },
   "outputs": [],
   "source": [
    "from vdom.helpers import div\n",
    "\n",
    "\n",
    "def dot(value=1, color='black', size=2):\n",
    "    return div(\n",
    "        style={\n",
    "            'height': '{:d}px'.format(value*2),\n",
    "            'display': 'inline-block',\n",
    "            'width': '{}px'.format(size),\n",
    "            'borderTop': '{}px solid {}'.format(size, color),\n",
    "        }\n",
    "    )\n",
    "\n",
    "def sparklines(l):\n",
    "    if len(l) > 0:\n",
    "        dots = [ dot(i) for i in l[:-1] ]\n",
    "        dots.append(dot(l[-1], color='red', size=3))\n",
    "    else:\n",
    "        dots = []\n",
    "    return div(dots, style={ 'display': 'inline-block', 'padding-top': \"50px\" })\n",
    "    "
   ]
  },
  {
   "cell_type": "code",
   "execution_count": 5,
   "metadata": {
    "inputHidden": false,
    "outputHidden": false
   },
   "outputs": [
    {
     "data": {
      "application/vdom.v1+json": {
       "attributes": {
        "style": {
         "display": "inline-block",
         "padding-top": "50px"
        }
       },
       "children": [
        {
         "attributes": {
          "style": {
           "borderTop": "2px solid black",
           "display": "inline-block",
           "height": "50px",
           "width": "2px"
          }
         },
         "children": [],
         "tagName": "div"
        },
        {
         "attributes": {
          "style": {
           "borderTop": "2px solid black",
           "display": "inline-block",
           "height": "46px",
           "width": "2px"
          }
         },
         "children": [],
         "tagName": "div"
        },
        {
         "attributes": {
          "style": {
           "borderTop": "2px solid black",
           "display": "inline-block",
           "height": "46px",
           "width": "2px"
          }
         },
         "children": [],
         "tagName": "div"
        },
        {
         "attributes": {
          "style": {
           "borderTop": "2px solid black",
           "display": "inline-block",
           "height": "42px",
           "width": "2px"
          }
         },
         "children": [],
         "tagName": "div"
        },
        {
         "attributes": {
          "style": {
           "borderTop": "2px solid black",
           "display": "inline-block",
           "height": "42px",
           "width": "2px"
          }
         },
         "children": [],
         "tagName": "div"
        },
        {
         "attributes": {
          "style": {
           "borderTop": "2px solid black",
           "display": "inline-block",
           "height": "40px",
           "width": "2px"
          }
         },
         "children": [],
         "tagName": "div"
        },
        {
         "attributes": {
          "style": {
           "borderTop": "2px solid black",
           "display": "inline-block",
           "height": "42px",
           "width": "2px"
          }
         },
         "children": [],
         "tagName": "div"
        },
        {
         "attributes": {
          "style": {
           "borderTop": "2px solid black",
           "display": "inline-block",
           "height": "40px",
           "width": "2px"
          }
         },
         "children": [],
         "tagName": "div"
        },
        {
         "attributes": {
          "style": {
           "borderTop": "2px solid black",
           "display": "inline-block",
           "height": "38px",
           "width": "2px"
          }
         },
         "children": [],
         "tagName": "div"
        },
        {
         "attributes": {
          "style": {
           "borderTop": "2px solid black",
           "display": "inline-block",
           "height": "42px",
           "width": "2px"
          }
         },
         "children": [],
         "tagName": "div"
        },
        {
         "attributes": {
          "style": {
           "borderTop": "2px solid black",
           "display": "inline-block",
           "height": "42px",
           "width": "2px"
          }
         },
         "children": [],
         "tagName": "div"
        },
        {
         "attributes": {
          "style": {
           "borderTop": "2px solid black",
           "display": "inline-block",
           "height": "44px",
           "width": "2px"
          }
         },
         "children": [],
         "tagName": "div"
        },
        {
         "attributes": {
          "style": {
           "borderTop": "2px solid black",
           "display": "inline-block",
           "height": "46px",
           "width": "2px"
          }
         },
         "children": [],
         "tagName": "div"
        },
        {
         "attributes": {
          "style": {
           "borderTop": "2px solid black",
           "display": "inline-block",
           "height": "44px",
           "width": "2px"
          }
         },
         "children": [],
         "tagName": "div"
        },
        {
         "attributes": {
          "style": {
           "borderTop": "2px solid black",
           "display": "inline-block",
           "height": "42px",
           "width": "2px"
          }
         },
         "children": [],
         "tagName": "div"
        },
        {
         "attributes": {
          "style": {
           "borderTop": "2px solid black",
           "display": "inline-block",
           "height": "38px",
           "width": "2px"
          }
         },
         "children": [],
         "tagName": "div"
        },
        {
         "attributes": {
          "style": {
           "borderTop": "2px solid black",
           "display": "inline-block",
           "height": "36px",
           "width": "2px"
          }
         },
         "children": [],
         "tagName": "div"
        },
        {
         "attributes": {
          "style": {
           "borderTop": "2px solid black",
           "display": "inline-block",
           "height": "34px",
           "width": "2px"
          }
         },
         "children": [],
         "tagName": "div"
        },
        {
         "attributes": {
          "style": {
           "borderTop": "2px solid black",
           "display": "inline-block",
           "height": "30px",
           "width": "2px"
          }
         },
         "children": [],
         "tagName": "div"
        },
        {
         "attributes": {
          "style": {
           "borderTop": "2px solid black",
           "display": "inline-block",
           "height": "28px",
           "width": "2px"
          }
         },
         "children": [],
         "tagName": "div"
        },
        {
         "attributes": {
          "style": {
           "borderTop": "2px solid black",
           "display": "inline-block",
           "height": "32px",
           "width": "2px"
          }
         },
         "children": [],
         "tagName": "div"
        },
        {
         "attributes": {
          "style": {
           "borderTop": "2px solid black",
           "display": "inline-block",
           "height": "30px",
           "width": "2px"
          }
         },
         "children": [],
         "tagName": "div"
        },
        {
         "attributes": {
          "style": {
           "borderTop": "2px solid black",
           "display": "inline-block",
           "height": "28px",
           "width": "2px"
          }
         },
         "children": [],
         "tagName": "div"
        },
        {
         "attributes": {
          "style": {
           "borderTop": "2px solid black",
           "display": "inline-block",
           "height": "28px",
           "width": "2px"
          }
         },
         "children": [],
         "tagName": "div"
        },
        {
         "attributes": {
          "style": {
           "borderTop": "2px solid black",
           "display": "inline-block",
           "height": "24px",
           "width": "2px"
          }
         },
         "children": [],
         "tagName": "div"
        },
        {
         "attributes": {
          "style": {
           "borderTop": "2px solid black",
           "display": "inline-block",
           "height": "20px",
           "width": "2px"
          }
         },
         "children": [],
         "tagName": "div"
        },
        {
         "attributes": {
          "style": {
           "borderTop": "2px solid black",
           "display": "inline-block",
           "height": "18px",
           "width": "2px"
          }
         },
         "children": [],
         "tagName": "div"
        },
        {
         "attributes": {
          "style": {
           "borderTop": "2px solid black",
           "display": "inline-block",
           "height": "20px",
           "width": "2px"
          }
         },
         "children": [],
         "tagName": "div"
        },
        {
         "attributes": {
          "style": {
           "borderTop": "2px solid black",
           "display": "inline-block",
           "height": "16px",
           "width": "2px"
          }
         },
         "children": [],
         "tagName": "div"
        },
        {
         "attributes": {
          "style": {
           "borderTop": "2px solid black",
           "display": "inline-block",
           "height": "12px",
           "width": "2px"
          }
         },
         "children": [],
         "tagName": "div"
        },
        {
         "attributes": {
          "style": {
           "borderTop": "2px solid black",
           "display": "inline-block",
           "height": "10px",
           "width": "2px"
          }
         },
         "children": [],
         "tagName": "div"
        },
        {
         "attributes": {
          "style": {
           "borderTop": "2px solid black",
           "display": "inline-block",
           "height": "14px",
           "width": "2px"
          }
         },
         "children": [],
         "tagName": "div"
        },
        {
         "attributes": {
          "style": {
           "borderTop": "2px solid black",
           "display": "inline-block",
           "height": "10px",
           "width": "2px"
          }
         },
         "children": [],
         "tagName": "div"
        },
        {
         "attributes": {
          "style": {
           "borderTop": "2px solid black",
           "display": "inline-block",
           "height": "14px",
           "width": "2px"
          }
         },
         "children": [],
         "tagName": "div"
        },
        {
         "attributes": {
          "style": {
           "borderTop": "2px solid black",
           "display": "inline-block",
           "height": "18px",
           "width": "2px"
          }
         },
         "children": [],
         "tagName": "div"
        },
        {
         "attributes": {
          "style": {
           "borderTop": "2px solid black",
           "display": "inline-block",
           "height": "16px",
           "width": "2px"
          }
         },
         "children": [],
         "tagName": "div"
        },
        {
         "attributes": {
          "style": {
           "borderTop": "2px solid black",
           "display": "inline-block",
           "height": "12px",
           "width": "2px"
          }
         },
         "children": [],
         "tagName": "div"
        },
        {
         "attributes": {
          "style": {
           "borderTop": "2px solid black",
           "display": "inline-block",
           "height": "14px",
           "width": "2px"
          }
         },
         "children": [],
         "tagName": "div"
        },
        {
         "attributes": {
          "style": {
           "borderTop": "2px solid black",
           "display": "inline-block",
           "height": "12px",
           "width": "2px"
          }
         },
         "children": [],
         "tagName": "div"
        },
        {
         "attributes": {
          "style": {
           "borderTop": "2px solid black",
           "display": "inline-block",
           "height": "14px",
           "width": "2px"
          }
         },
         "children": [],
         "tagName": "div"
        },
        {
         "attributes": {
          "style": {
           "borderTop": "2px solid black",
           "display": "inline-block",
           "height": "12px",
           "width": "2px"
          }
         },
         "children": [],
         "tagName": "div"
        },
        {
         "attributes": {
          "style": {
           "borderTop": "2px solid black",
           "display": "inline-block",
           "height": "8px",
           "width": "2px"
          }
         },
         "children": [],
         "tagName": "div"
        },
        {
         "attributes": {
          "style": {
           "borderTop": "2px solid black",
           "display": "inline-block",
           "height": "10px",
           "width": "2px"
          }
         },
         "children": [],
         "tagName": "div"
        },
        {
         "attributes": {
          "style": {
           "borderTop": "2px solid black",
           "display": "inline-block",
           "height": "8px",
           "width": "2px"
          }
         },
         "children": [],
         "tagName": "div"
        },
        {
         "attributes": {
          "style": {
           "borderTop": "2px solid black",
           "display": "inline-block",
           "height": "10px",
           "width": "2px"
          }
         },
         "children": [],
         "tagName": "div"
        },
        {
         "attributes": {
          "style": {
           "borderTop": "2px solid black",
           "display": "inline-block",
           "height": "6px",
           "width": "2px"
          }
         },
         "children": [],
         "tagName": "div"
        },
        {
         "attributes": {
          "style": {
           "borderTop": "2px solid black",
           "display": "inline-block",
           "height": "2px",
           "width": "2px"
          }
         },
         "children": [],
         "tagName": "div"
        },
        {
         "attributes": {
          "style": {
           "borderTop": "2px solid black",
           "display": "inline-block",
           "height": "0px",
           "width": "2px"
          }
         },
         "children": [],
         "tagName": "div"
        },
        {
         "attributes": {
          "style": {
           "borderTop": "2px solid black",
           "display": "inline-block",
           "height": "0px",
           "width": "2px"
          }
         },
         "children": [],
         "tagName": "div"
        },
        {
         "attributes": {
          "style": {
           "borderTop": "2px solid black",
           "display": "inline-block",
           "height": "4px",
           "width": "2px"
          }
         },
         "children": [],
         "tagName": "div"
        },
        {
         "attributes": {
          "style": {
           "borderTop": "2px solid black",
           "display": "inline-block",
           "height": "6px",
           "width": "2px"
          }
         },
         "children": [],
         "tagName": "div"
        },
        {
         "attributes": {
          "style": {
           "borderTop": "2px solid black",
           "display": "inline-block",
           "height": "2px",
           "width": "2px"
          }
         },
         "children": [],
         "tagName": "div"
        },
        {
         "attributes": {
          "style": {
           "borderTop": "2px solid black",
           "display": "inline-block",
           "height": "0px",
           "width": "2px"
          }
         },
         "children": [],
         "tagName": "div"
        },
        {
         "attributes": {
          "style": {
           "borderTop": "2px solid black",
           "display": "inline-block",
           "height": "2px",
           "width": "2px"
          }
         },
         "children": [],
         "tagName": "div"
        },
        {
         "attributes": {
          "style": {
           "borderTop": "2px solid black",
           "display": "inline-block",
           "height": "2px",
           "width": "2px"
          }
         },
         "children": [],
         "tagName": "div"
        },
        {
         "attributes": {
          "style": {
           "borderTop": "2px solid black",
           "display": "inline-block",
           "height": "6px",
           "width": "2px"
          }
         },
         "children": [],
         "tagName": "div"
        },
        {
         "attributes": {
          "style": {
           "borderTop": "2px solid black",
           "display": "inline-block",
           "height": "4px",
           "width": "2px"
          }
         },
         "children": [],
         "tagName": "div"
        },
        {
         "attributes": {
          "style": {
           "borderTop": "2px solid black",
           "display": "inline-block",
           "height": "2px",
           "width": "2px"
          }
         },
         "children": [],
         "tagName": "div"
        },
        {
         "attributes": {
          "style": {
           "borderTop": "2px solid black",
           "display": "inline-block",
           "height": "2px",
           "width": "2px"
          }
         },
         "children": [],
         "tagName": "div"
        },
        {
         "attributes": {
          "style": {
           "borderTop": "2px solid black",
           "display": "inline-block",
           "height": "6px",
           "width": "2px"
          }
         },
         "children": [],
         "tagName": "div"
        },
        {
         "attributes": {
          "style": {
           "borderTop": "2px solid black",
           "display": "inline-block",
           "height": "6px",
           "width": "2px"
          }
         },
         "children": [],
         "tagName": "div"
        },
        {
         "attributes": {
          "style": {
           "borderTop": "2px solid black",
           "display": "inline-block",
           "height": "8px",
           "width": "2px"
          }
         },
         "children": [],
         "tagName": "div"
        },
        {
         "attributes": {
          "style": {
           "borderTop": "2px solid black",
           "display": "inline-block",
           "height": "4px",
           "width": "2px"
          }
         },
         "children": [],
         "tagName": "div"
        },
        {
         "attributes": {
          "style": {
           "borderTop": "2px solid black",
           "display": "inline-block",
           "height": "6px",
           "width": "2px"
          }
         },
         "children": [],
         "tagName": "div"
        },
        {
         "attributes": {
          "style": {
           "borderTop": "2px solid black",
           "display": "inline-block",
           "height": "10px",
           "width": "2px"
          }
         },
         "children": [],
         "tagName": "div"
        },
        {
         "attributes": {
          "style": {
           "borderTop": "2px solid black",
           "display": "inline-block",
           "height": "10px",
           "width": "2px"
          }
         },
         "children": [],
         "tagName": "div"
        },
        {
         "attributes": {
          "style": {
           "borderTop": "2px solid black",
           "display": "inline-block",
           "height": "14px",
           "width": "2px"
          }
         },
         "children": [],
         "tagName": "div"
        },
        {
         "attributes": {
          "style": {
           "borderTop": "2px solid black",
           "display": "inline-block",
           "height": "14px",
           "width": "2px"
          }
         },
         "children": [],
         "tagName": "div"
        },
        {
         "attributes": {
          "style": {
           "borderTop": "2px solid black",
           "display": "inline-block",
           "height": "16px",
           "width": "2px"
          }
         },
         "children": [],
         "tagName": "div"
        },
        {
         "attributes": {
          "style": {
           "borderTop": "2px solid black",
           "display": "inline-block",
           "height": "16px",
           "width": "2px"
          }
         },
         "children": [],
         "tagName": "div"
        },
        {
         "attributes": {
          "style": {
           "borderTop": "2px solid black",
           "display": "inline-block",
           "height": "14px",
           "width": "2px"
          }
         },
         "children": [],
         "tagName": "div"
        },
        {
         "attributes": {
          "style": {
           "borderTop": "2px solid black",
           "display": "inline-block",
           "height": "12px",
           "width": "2px"
          }
         },
         "children": [],
         "tagName": "div"
        },
        {
         "attributes": {
          "style": {
           "borderTop": "2px solid black",
           "display": "inline-block",
           "height": "14px",
           "width": "2px"
          }
         },
         "children": [],
         "tagName": "div"
        },
        {
         "attributes": {
          "style": {
           "borderTop": "2px solid black",
           "display": "inline-block",
           "height": "16px",
           "width": "2px"
          }
         },
         "children": [],
         "tagName": "div"
        },
        {
         "attributes": {
          "style": {
           "borderTop": "2px solid black",
           "display": "inline-block",
           "height": "12px",
           "width": "2px"
          }
         },
         "children": [],
         "tagName": "div"
        },
        {
         "attributes": {
          "style": {
           "borderTop": "2px solid black",
           "display": "inline-block",
           "height": "12px",
           "width": "2px"
          }
         },
         "children": [],
         "tagName": "div"
        },
        {
         "attributes": {
          "style": {
           "borderTop": "2px solid black",
           "display": "inline-block",
           "height": "12px",
           "width": "2px"
          }
         },
         "children": [],
         "tagName": "div"
        },
        {
         "attributes": {
          "style": {
           "borderTop": "2px solid black",
           "display": "inline-block",
           "height": "12px",
           "width": "2px"
          }
         },
         "children": [],
         "tagName": "div"
        },
        {
         "attributes": {
          "style": {
           "borderTop": "2px solid black",
           "display": "inline-block",
           "height": "16px",
           "width": "2px"
          }
         },
         "children": [],
         "tagName": "div"
        },
        {
         "attributes": {
          "style": {
           "borderTop": "2px solid black",
           "display": "inline-block",
           "height": "16px",
           "width": "2px"
          }
         },
         "children": [],
         "tagName": "div"
        },
        {
         "attributes": {
          "style": {
           "borderTop": "2px solid black",
           "display": "inline-block",
           "height": "16px",
           "width": "2px"
          }
         },
         "children": [],
         "tagName": "div"
        },
        {
         "attributes": {
          "style": {
           "borderTop": "2px solid black",
           "display": "inline-block",
           "height": "16px",
           "width": "2px"
          }
         },
         "children": [],
         "tagName": "div"
        },
        {
         "attributes": {
          "style": {
           "borderTop": "2px solid black",
           "display": "inline-block",
           "height": "14px",
           "width": "2px"
          }
         },
         "children": [],
         "tagName": "div"
        },
        {
         "attributes": {
          "style": {
           "borderTop": "2px solid black",
           "display": "inline-block",
           "height": "18px",
           "width": "2px"
          }
         },
         "children": [],
         "tagName": "div"
        },
        {
         "attributes": {
          "style": {
           "borderTop": "2px solid black",
           "display": "inline-block",
           "height": "18px",
           "width": "2px"
          }
         },
         "children": [],
         "tagName": "div"
        },
        {
         "attributes": {
          "style": {
           "borderTop": "2px solid black",
           "display": "inline-block",
           "height": "20px",
           "width": "2px"
          }
         },
         "children": [],
         "tagName": "div"
        },
        {
         "attributes": {
          "style": {
           "borderTop": "2px solid black",
           "display": "inline-block",
           "height": "16px",
           "width": "2px"
          }
         },
         "children": [],
         "tagName": "div"
        },
        {
         "attributes": {
          "style": {
           "borderTop": "2px solid black",
           "display": "inline-block",
           "height": "16px",
           "width": "2px"
          }
         },
         "children": [],
         "tagName": "div"
        },
        {
         "attributes": {
          "style": {
           "borderTop": "2px solid black",
           "display": "inline-block",
           "height": "20px",
           "width": "2px"
          }
         },
         "children": [],
         "tagName": "div"
        },
        {
         "attributes": {
          "style": {
           "borderTop": "2px solid black",
           "display": "inline-block",
           "height": "24px",
           "width": "2px"
          }
         },
         "children": [],
         "tagName": "div"
        },
        {
         "attributes": {
          "style": {
           "borderTop": "2px solid black",
           "display": "inline-block",
           "height": "20px",
           "width": "2px"
          }
         },
         "children": [],
         "tagName": "div"
        },
        {
         "attributes": {
          "style": {
           "borderTop": "2px solid black",
           "display": "inline-block",
           "height": "16px",
           "width": "2px"
          }
         },
         "children": [],
         "tagName": "div"
        },
        {
         "attributes": {
          "style": {
           "borderTop": "2px solid black",
           "display": "inline-block",
           "height": "12px",
           "width": "2px"
          }
         },
         "children": [],
         "tagName": "div"
        },
        {
         "attributes": {
          "style": {
           "borderTop": "2px solid black",
           "display": "inline-block",
           "height": "16px",
           "width": "2px"
          }
         },
         "children": [],
         "tagName": "div"
        },
        {
         "attributes": {
          "style": {
           "borderTop": "2px solid black",
           "display": "inline-block",
           "height": "14px",
           "width": "2px"
          }
         },
         "children": [],
         "tagName": "div"
        },
        {
         "attributes": {
          "style": {
           "borderTop": "2px solid black",
           "display": "inline-block",
           "height": "16px",
           "width": "2px"
          }
         },
         "children": [],
         "tagName": "div"
        },
        {
         "attributes": {
          "style": {
           "borderTop": "2px solid black",
           "display": "inline-block",
           "height": "14px",
           "width": "2px"
          }
         },
         "children": [],
         "tagName": "div"
        },
        {
         "attributes": {
          "style": {
           "borderTop": "2px solid black",
           "display": "inline-block",
           "height": "16px",
           "width": "2px"
          }
         },
         "children": [],
         "tagName": "div"
        },
        {
         "attributes": {
          "style": {
           "borderTop": "2px solid black",
           "display": "inline-block",
           "height": "14px",
           "width": "2px"
          }
         },
         "children": [],
         "tagName": "div"
        },
        {
         "attributes": {
          "style": {
           "borderTop": "2px solid black",
           "display": "inline-block",
           "height": "16px",
           "width": "2px"
          }
         },
         "children": [],
         "tagName": "div"
        },
        {
         "attributes": {
          "style": {
           "borderTop": "3px solid red",
           "display": "inline-block",
           "height": "20px",
           "width": "3px"
          }
         },
         "children": [],
         "tagName": "div"
        }
       ],
       "tagName": "div"
      },
      "text/html": [
       "<div style=\"display: inline-block; padding-top: 50px\"><div style=\"border-top: 2px solid black; display: inline-block; height: 50px; width: 2px\"></div><div style=\"border-top: 2px solid black; display: inline-block; height: 46px; width: 2px\"></div><div style=\"border-top: 2px solid black; display: inline-block; height: 46px; width: 2px\"></div><div style=\"border-top: 2px solid black; display: inline-block; height: 42px; width: 2px\"></div><div style=\"border-top: 2px solid black; display: inline-block; height: 42px; width: 2px\"></div><div style=\"border-top: 2px solid black; display: inline-block; height: 40px; width: 2px\"></div><div style=\"border-top: 2px solid black; display: inline-block; height: 42px; width: 2px\"></div><div style=\"border-top: 2px solid black; display: inline-block; height: 40px; width: 2px\"></div><div style=\"border-top: 2px solid black; display: inline-block; height: 38px; width: 2px\"></div><div style=\"border-top: 2px solid black; display: inline-block; height: 42px; width: 2px\"></div><div style=\"border-top: 2px solid black; display: inline-block; height: 42px; width: 2px\"></div><div style=\"border-top: 2px solid black; display: inline-block; height: 44px; width: 2px\"></div><div style=\"border-top: 2px solid black; display: inline-block; height: 46px; width: 2px\"></div><div style=\"border-top: 2px solid black; display: inline-block; height: 44px; width: 2px\"></div><div style=\"border-top: 2px solid black; display: inline-block; height: 42px; width: 2px\"></div><div style=\"border-top: 2px solid black; display: inline-block; height: 38px; width: 2px\"></div><div style=\"border-top: 2px solid black; display: inline-block; height: 36px; width: 2px\"></div><div style=\"border-top: 2px solid black; display: inline-block; height: 34px; width: 2px\"></div><div style=\"border-top: 2px solid black; display: inline-block; height: 30px; width: 2px\"></div><div style=\"border-top: 2px solid black; display: inline-block; height: 28px; width: 2px\"></div><div style=\"border-top: 2px solid black; display: inline-block; height: 32px; width: 2px\"></div><div style=\"border-top: 2px solid black; display: inline-block; height: 30px; width: 2px\"></div><div style=\"border-top: 2px solid black; display: inline-block; height: 28px; width: 2px\"></div><div style=\"border-top: 2px solid black; display: inline-block; height: 28px; width: 2px\"></div><div style=\"border-top: 2px solid black; display: inline-block; height: 24px; width: 2px\"></div><div style=\"border-top: 2px solid black; display: inline-block; height: 20px; width: 2px\"></div><div style=\"border-top: 2px solid black; display: inline-block; height: 18px; width: 2px\"></div><div style=\"border-top: 2px solid black; display: inline-block; height: 20px; width: 2px\"></div><div style=\"border-top: 2px solid black; display: inline-block; height: 16px; width: 2px\"></div><div style=\"border-top: 2px solid black; display: inline-block; height: 12px; width: 2px\"></div><div style=\"border-top: 2px solid black; display: inline-block; height: 10px; width: 2px\"></div><div style=\"border-top: 2px solid black; display: inline-block; height: 14px; width: 2px\"></div><div style=\"border-top: 2px solid black; display: inline-block; height: 10px; width: 2px\"></div><div style=\"border-top: 2px solid black; display: inline-block; height: 14px; width: 2px\"></div><div style=\"border-top: 2px solid black; display: inline-block; height: 18px; width: 2px\"></div><div style=\"border-top: 2px solid black; display: inline-block; height: 16px; width: 2px\"></div><div style=\"border-top: 2px solid black; display: inline-block; height: 12px; width: 2px\"></div><div style=\"border-top: 2px solid black; display: inline-block; height: 14px; width: 2px\"></div><div style=\"border-top: 2px solid black; display: inline-block; height: 12px; width: 2px\"></div><div style=\"border-top: 2px solid black; display: inline-block; height: 14px; width: 2px\"></div><div style=\"border-top: 2px solid black; display: inline-block; height: 12px; width: 2px\"></div><div style=\"border-top: 2px solid black; display: inline-block; height: 8px; width: 2px\"></div><div style=\"border-top: 2px solid black; display: inline-block; height: 10px; width: 2px\"></div><div style=\"border-top: 2px solid black; display: inline-block; height: 8px; width: 2px\"></div><div style=\"border-top: 2px solid black; display: inline-block; height: 10px; width: 2px\"></div><div style=\"border-top: 2px solid black; display: inline-block; height: 6px; width: 2px\"></div><div style=\"border-top: 2px solid black; display: inline-block; height: 2px; width: 2px\"></div><div style=\"border-top: 2px solid black; display: inline-block; height: 0px; width: 2px\"></div><div style=\"border-top: 2px solid black; display: inline-block; height: 0px; width: 2px\"></div><div style=\"border-top: 2px solid black; display: inline-block; height: 4px; width: 2px\"></div><div style=\"border-top: 2px solid black; display: inline-block; height: 6px; width: 2px\"></div><div style=\"border-top: 2px solid black; display: inline-block; height: 2px; width: 2px\"></div><div style=\"border-top: 2px solid black; display: inline-block; height: 0px; width: 2px\"></div><div style=\"border-top: 2px solid black; display: inline-block; height: 2px; width: 2px\"></div><div style=\"border-top: 2px solid black; display: inline-block; height: 2px; width: 2px\"></div><div style=\"border-top: 2px solid black; display: inline-block; height: 6px; width: 2px\"></div><div style=\"border-top: 2px solid black; display: inline-block; height: 4px; width: 2px\"></div><div style=\"border-top: 2px solid black; display: inline-block; height: 2px; width: 2px\"></div><div style=\"border-top: 2px solid black; display: inline-block; height: 2px; width: 2px\"></div><div style=\"border-top: 2px solid black; display: inline-block; height: 6px; width: 2px\"></div><div style=\"border-top: 2px solid black; display: inline-block; height: 6px; width: 2px\"></div><div style=\"border-top: 2px solid black; display: inline-block; height: 8px; width: 2px\"></div><div style=\"border-top: 2px solid black; display: inline-block; height: 4px; width: 2px\"></div><div style=\"border-top: 2px solid black; display: inline-block; height: 6px; width: 2px\"></div><div style=\"border-top: 2px solid black; display: inline-block; height: 10px; width: 2px\"></div><div style=\"border-top: 2px solid black; display: inline-block; height: 10px; width: 2px\"></div><div style=\"border-top: 2px solid black; display: inline-block; height: 14px; width: 2px\"></div><div style=\"border-top: 2px solid black; display: inline-block; height: 14px; width: 2px\"></div><div style=\"border-top: 2px solid black; display: inline-block; height: 16px; width: 2px\"></div><div style=\"border-top: 2px solid black; display: inline-block; height: 16px; width: 2px\"></div><div style=\"border-top: 2px solid black; display: inline-block; height: 14px; width: 2px\"></div><div style=\"border-top: 2px solid black; display: inline-block; height: 12px; width: 2px\"></div><div style=\"border-top: 2px solid black; display: inline-block; height: 14px; width: 2px\"></div><div style=\"border-top: 2px solid black; display: inline-block; height: 16px; width: 2px\"></div><div style=\"border-top: 2px solid black; display: inline-block; height: 12px; width: 2px\"></div><div style=\"border-top: 2px solid black; display: inline-block; height: 12px; width: 2px\"></div><div style=\"border-top: 2px solid black; display: inline-block; height: 12px; width: 2px\"></div><div style=\"border-top: 2px solid black; display: inline-block; height: 12px; width: 2px\"></div><div style=\"border-top: 2px solid black; display: inline-block; height: 16px; width: 2px\"></div><div style=\"border-top: 2px solid black; display: inline-block; height: 16px; width: 2px\"></div><div style=\"border-top: 2px solid black; display: inline-block; height: 16px; width: 2px\"></div><div style=\"border-top: 2px solid black; display: inline-block; height: 16px; width: 2px\"></div><div style=\"border-top: 2px solid black; display: inline-block; height: 14px; width: 2px\"></div><div style=\"border-top: 2px solid black; display: inline-block; height: 18px; width: 2px\"></div><div style=\"border-top: 2px solid black; display: inline-block; height: 18px; width: 2px\"></div><div style=\"border-top: 2px solid black; display: inline-block; height: 20px; width: 2px\"></div><div style=\"border-top: 2px solid black; display: inline-block; height: 16px; width: 2px\"></div><div style=\"border-top: 2px solid black; display: inline-block; height: 16px; width: 2px\"></div><div style=\"border-top: 2px solid black; display: inline-block; height: 20px; width: 2px\"></div><div style=\"border-top: 2px solid black; display: inline-block; height: 24px; width: 2px\"></div><div style=\"border-top: 2px solid black; display: inline-block; height: 20px; width: 2px\"></div><div style=\"border-top: 2px solid black; display: inline-block; height: 16px; width: 2px\"></div><div style=\"border-top: 2px solid black; display: inline-block; height: 12px; width: 2px\"></div><div style=\"border-top: 2px solid black; display: inline-block; height: 16px; width: 2px\"></div><div style=\"border-top: 2px solid black; display: inline-block; height: 14px; width: 2px\"></div><div style=\"border-top: 2px solid black; display: inline-block; height: 16px; width: 2px\"></div><div style=\"border-top: 2px solid black; display: inline-block; height: 14px; width: 2px\"></div><div style=\"border-top: 2px solid black; display: inline-block; height: 16px; width: 2px\"></div><div style=\"border-top: 2px solid black; display: inline-block; height: 14px; width: 2px\"></div><div style=\"border-top: 2px solid black; display: inline-block; height: 16px; width: 2px\"></div><div style=\"border-top: 3px solid red; display: inline-block; height: 20px; width: 3px\"></div></div>"
      ],
      "text/plain": [
       "<div style=\"display: inline-block; padding-top: 50px\"><div style=\"border-top: 2px solid black; display: inline-block; height: 50px; width: 2px\"></div><div style=\"border-top: 2px solid black; display: inline-block; height: 46px; width: 2px\"></div><div style=\"border-top: 2px solid black; display: inline-block; height: 46px; width: 2px\"></div><div style=\"border-top: 2px solid black; display: inline-block; height: 42px; width: 2px\"></div><div style=\"border-top: 2px solid black; display: inline-block; height: 42px; width: 2px\"></div><div style=\"border-top: 2px solid black; display: inline-block; height: 40px; width: 2px\"></div><div style=\"border-top: 2px solid black; display: inline-block; height: 42px; width: 2px\"></div><div style=\"border-top: 2px solid black; display: inline-block; height: 40px; width: 2px\"></div><div style=\"border-top: 2px solid black; display: inline-block; height: 38px; width: 2px\"></div><div style=\"border-top: 2px solid black; display: inline-block; height: 42px; width: 2px\"></div><div style=\"border-top: 2px solid black; display: inline-block; height: 42px; width: 2px\"></div><div style=\"border-top: 2px solid black; display: inline-block; height: 44px; width: 2px\"></div><div style=\"border-top: 2px solid black; display: inline-block; height: 46px; width: 2px\"></div><div style=\"border-top: 2px solid black; display: inline-block; height: 44px; width: 2px\"></div><div style=\"border-top: 2px solid black; display: inline-block; height: 42px; width: 2px\"></div><div style=\"border-top: 2px solid black; display: inline-block; height: 38px; width: 2px\"></div><div style=\"border-top: 2px solid black; display: inline-block; height: 36px; width: 2px\"></div><div style=\"border-top: 2px solid black; display: inline-block; height: 34px; width: 2px\"></div><div style=\"border-top: 2px solid black; display: inline-block; height: 30px; width: 2px\"></div><div style=\"border-top: 2px solid black; display: inline-block; height: 28px; width: 2px\"></div><div style=\"border-top: 2px solid black; display: inline-block; height: 32px; width: 2px\"></div><div style=\"border-top: 2px solid black; display: inline-block; height: 30px; width: 2px\"></div><div style=\"border-top: 2px solid black; display: inline-block; height: 28px; width: 2px\"></div><div style=\"border-top: 2px solid black; display: inline-block; height: 28px; width: 2px\"></div><div style=\"border-top: 2px solid black; display: inline-block; height: 24px; width: 2px\"></div><div style=\"border-top: 2px solid black; display: inline-block; height: 20px; width: 2px\"></div><div style=\"border-top: 2px solid black; display: inline-block; height: 18px; width: 2px\"></div><div style=\"border-top: 2px solid black; display: inline-block; height: 20px; width: 2px\"></div><div style=\"border-top: 2px solid black; display: inline-block; height: 16px; width: 2px\"></div><div style=\"border-top: 2px solid black; display: inline-block; height: 12px; width: 2px\"></div><div style=\"border-top: 2px solid black; display: inline-block; height: 10px; width: 2px\"></div><div style=\"border-top: 2px solid black; display: inline-block; height: 14px; width: 2px\"></div><div style=\"border-top: 2px solid black; display: inline-block; height: 10px; width: 2px\"></div><div style=\"border-top: 2px solid black; display: inline-block; height: 14px; width: 2px\"></div><div style=\"border-top: 2px solid black; display: inline-block; height: 18px; width: 2px\"></div><div style=\"border-top: 2px solid black; display: inline-block; height: 16px; width: 2px\"></div><div style=\"border-top: 2px solid black; display: inline-block; height: 12px; width: 2px\"></div><div style=\"border-top: 2px solid black; display: inline-block; height: 14px; width: 2px\"></div><div style=\"border-top: 2px solid black; display: inline-block; height: 12px; width: 2px\"></div><div style=\"border-top: 2px solid black; display: inline-block; height: 14px; width: 2px\"></div><div style=\"border-top: 2px solid black; display: inline-block; height: 12px; width: 2px\"></div><div style=\"border-top: 2px solid black; display: inline-block; height: 8px; width: 2px\"></div><div style=\"border-top: 2px solid black; display: inline-block; height: 10px; width: 2px\"></div><div style=\"border-top: 2px solid black; display: inline-block; height: 8px; width: 2px\"></div><div style=\"border-top: 2px solid black; display: inline-block; height: 10px; width: 2px\"></div><div style=\"border-top: 2px solid black; display: inline-block; height: 6px; width: 2px\"></div><div style=\"border-top: 2px solid black; display: inline-block; height: 2px; width: 2px\"></div><div style=\"border-top: 2px solid black; display: inline-block; height: 0px; width: 2px\"></div><div style=\"border-top: 2px solid black; display: inline-block; height: 0px; width: 2px\"></div><div style=\"border-top: 2px solid black; display: inline-block; height: 4px; width: 2px\"></div><div style=\"border-top: 2px solid black; display: inline-block; height: 6px; width: 2px\"></div><div style=\"border-top: 2px solid black; display: inline-block; height: 2px; width: 2px\"></div><div style=\"border-top: 2px solid black; display: inline-block; height: 0px; width: 2px\"></div><div style=\"border-top: 2px solid black; display: inline-block; height: 2px; width: 2px\"></div><div style=\"border-top: 2px solid black; display: inline-block; height: 2px; width: 2px\"></div><div style=\"border-top: 2px solid black; display: inline-block; height: 6px; width: 2px\"></div><div style=\"border-top: 2px solid black; display: inline-block; height: 4px; width: 2px\"></div><div style=\"border-top: 2px solid black; display: inline-block; height: 2px; width: 2px\"></div><div style=\"border-top: 2px solid black; display: inline-block; height: 2px; width: 2px\"></div><div style=\"border-top: 2px solid black; display: inline-block; height: 6px; width: 2px\"></div><div style=\"border-top: 2px solid black; display: inline-block; height: 6px; width: 2px\"></div><div style=\"border-top: 2px solid black; display: inline-block; height: 8px; width: 2px\"></div><div style=\"border-top: 2px solid black; display: inline-block; height: 4px; width: 2px\"></div><div style=\"border-top: 2px solid black; display: inline-block; height: 6px; width: 2px\"></div><div style=\"border-top: 2px solid black; display: inline-block; height: 10px; width: 2px\"></div><div style=\"border-top: 2px solid black; display: inline-block; height: 10px; width: 2px\"></div><div style=\"border-top: 2px solid black; display: inline-block; height: 14px; width: 2px\"></div><div style=\"border-top: 2px solid black; display: inline-block; height: 14px; width: 2px\"></div><div style=\"border-top: 2px solid black; display: inline-block; height: 16px; width: 2px\"></div><div style=\"border-top: 2px solid black; display: inline-block; height: 16px; width: 2px\"></div><div style=\"border-top: 2px solid black; display: inline-block; height: 14px; width: 2px\"></div><div style=\"border-top: 2px solid black; display: inline-block; height: 12px; width: 2px\"></div><div style=\"border-top: 2px solid black; display: inline-block; height: 14px; width: 2px\"></div><div style=\"border-top: 2px solid black; display: inline-block; height: 16px; width: 2px\"></div><div style=\"border-top: 2px solid black; display: inline-block; height: 12px; width: 2px\"></div><div style=\"border-top: 2px solid black; display: inline-block; height: 12px; width: 2px\"></div><div style=\"border-top: 2px solid black; display: inline-block; height: 12px; width: 2px\"></div><div style=\"border-top: 2px solid black; display: inline-block; height: 12px; width: 2px\"></div><div style=\"border-top: 2px solid black; display: inline-block; height: 16px; width: 2px\"></div><div style=\"border-top: 2px solid black; display: inline-block; height: 16px; width: 2px\"></div><div style=\"border-top: 2px solid black; display: inline-block; height: 16px; width: 2px\"></div><div style=\"border-top: 2px solid black; display: inline-block; height: 16px; width: 2px\"></div><div style=\"border-top: 2px solid black; display: inline-block; height: 14px; width: 2px\"></div><div style=\"border-top: 2px solid black; display: inline-block; height: 18px; width: 2px\"></div><div style=\"border-top: 2px solid black; display: inline-block; height: 18px; width: 2px\"></div><div style=\"border-top: 2px solid black; display: inline-block; height: 20px; width: 2px\"></div><div style=\"border-top: 2px solid black; display: inline-block; height: 16px; width: 2px\"></div><div style=\"border-top: 2px solid black; display: inline-block; height: 16px; width: 2px\"></div><div style=\"border-top: 2px solid black; display: inline-block; height: 20px; width: 2px\"></div><div style=\"border-top: 2px solid black; display: inline-block; height: 24px; width: 2px\"></div><div style=\"border-top: 2px solid black; display: inline-block; height: 20px; width: 2px\"></div><div style=\"border-top: 2px solid black; display: inline-block; height: 16px; width: 2px\"></div><div style=\"border-top: 2px solid black; display: inline-block; height: 12px; width: 2px\"></div><div style=\"border-top: 2px solid black; display: inline-block; height: 16px; width: 2px\"></div><div style=\"border-top: 2px solid black; display: inline-block; height: 14px; width: 2px\"></div><div style=\"border-top: 2px solid black; display: inline-block; height: 16px; width: 2px\"></div><div style=\"border-top: 2px solid black; display: inline-block; height: 14px; width: 2px\"></div><div style=\"border-top: 2px solid black; display: inline-block; height: 16px; width: 2px\"></div><div style=\"border-top: 2px solid black; display: inline-block; height: 14px; width: 2px\"></div><div style=\"border-top: 2px solid black; display: inline-block; height: 16px; width: 2px\"></div><div style=\"border-top: 3px solid red; display: inline-block; height: 20px; width: 3px\"></div></div>"
      ]
     },
     "metadata": {},
     "output_type": "display_data"
    }
   ],
   "source": [
    "events = []\n",
    "handle = display( \n",
    "    sparklines(events),\n",
    "    display_id=True\n",
    ")\n",
    "\n",
    "def tick(num=500, step=2):\n",
    "    events = [25]\n",
    "    for _ in range(num):\n",
    "        event = max(min(events[-1] + random.randint(-step, step), 50), 0)\n",
    "        events.append(event)\n",
    "        time.sleep(.1)\n",
    "        handle.update(sparklines(events))"
   ]
  },
  {
   "cell_type": "code",
   "execution_count": 6,
   "metadata": {
    "inputHidden": false,
    "outputHidden": false
   },
   "outputs": [],
   "source": [
    "tick(100)"
   ]
  },
  {
   "cell_type": "code",
   "execution_count": 1,
   "metadata": {
    "collapsed": false,
    "inputHidden": false,
    "outputHidden": false
   },
   "outputs": [],
   "source": []
  }
 ],
 "metadata": {
  "kernel_info": {
   "name": "python3"
  },
  "kernelspec": {
   "display_name": "Python 3",
   "language": "python",
   "name": "python3"
  },
  "language_info": {
   "codemirror_mode": {
    "name": "ipython",
    "version": 3
   },
   "file_extension": ".py",
   "mimetype": "text/x-python",
   "name": "python",
   "nbconvert_exporter": "python",
   "pygments_lexer": "ipython3",
   "version": "3.7.2"
  },
  "nteract": {
   "version": "0.7.1"
  }
 },
 "nbformat": 4,
 "nbformat_minor": 4
}
