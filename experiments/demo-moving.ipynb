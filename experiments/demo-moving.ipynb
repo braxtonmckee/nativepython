{
 "cells": [
  {
   "cell_type": "code",
   "execution_count": 48,
   "metadata": {
    "collapsed": false,
    "inputHidden": false,
    "outputHidden": false
   },
   "outputs": [],
   "source": [
    "import random, time\n",
    "from vdom.helpers import div"
   ]
  },
  {
   "cell_type": "markdown",
   "metadata": {},
   "source": [
    "### basic tick example"
   ]
  },
  {
   "cell_type": "code",
   "execution_count": 49,
   "metadata": {
    "collapsed": false,
    "inputHidden": false,
    "outputHidden": false
   },
   "outputs": [],
   "source": [
    "from vdom.helpers import div\n",
    "\n",
    "\n",
    "def dot(value=1, color='black', size=2):\n",
    "    return div(\n",
    "        style={\n",
    "            'height': '{:d}px'.format(value*2),\n",
    "            'display': 'inline-block',\n",
    "            'width': '{}px'.format(size),\n",
    "            'borderTop': '{}px solid {}'.format(size, color),\n",
    "        }\n",
    "    )\n",
    "\n",
    "def sparklines(l):\n",
    "    if len(l) > 0:\n",
    "        dots = [ dot(i) for i in l[:-1] ]\n",
    "        dots.append(dot(l[-1], color='red', size=3))\n",
    "    else:\n",
    "        dots = []\n",
    "    return div(dots,\n",
    "               style={ 'display': 'inline-block', 'padding-top': \"50px\" },\n",
    "               on_click=lambda : print('ok')\n",
    "              )\n",
    "    "
   ]
  },
  {
   "cell_type": "code",
   "execution_count": 50,
   "metadata": {
    "inputHidden": false,
    "outputHidden": false
   },
   "outputs": [
    {
     "data": {
      "application/vdom.v1+json": {
       "attributes": {
        "style": {
         "display": "inline-block",
         "padding-top": "50px"
        }
       },
       "children": [
        {
         "attributes": {
          "style": {
           "borderTop": "2px solid black",
           "display": "inline-block",
           "height": "50px",
           "width": "2px"
          }
         },
         "children": [],
         "tagName": "div"
        },
        {
         "attributes": {
          "style": {
           "borderTop": "2px solid black",
           "display": "inline-block",
           "height": "46px",
           "width": "2px"
          }
         },
         "children": [],
         "tagName": "div"
        },
        {
         "attributes": {
          "style": {
           "borderTop": "2px solid black",
           "display": "inline-block",
           "height": "46px",
           "width": "2px"
          }
         },
         "children": [],
         "tagName": "div"
        },
        {
         "attributes": {
          "style": {
           "borderTop": "2px solid black",
           "display": "inline-block",
           "height": "46px",
           "width": "2px"
          }
         },
         "children": [],
         "tagName": "div"
        },
        {
         "attributes": {
          "style": {
           "borderTop": "2px solid black",
           "display": "inline-block",
           "height": "42px",
           "width": "2px"
          }
         },
         "children": [],
         "tagName": "div"
        },
        {
         "attributes": {
          "style": {
           "borderTop": "2px solid black",
           "display": "inline-block",
           "height": "46px",
           "width": "2px"
          }
         },
         "children": [],
         "tagName": "div"
        },
        {
         "attributes": {
          "style": {
           "borderTop": "2px solid black",
           "display": "inline-block",
           "height": "48px",
           "width": "2px"
          }
         },
         "children": [],
         "tagName": "div"
        },
        {
         "attributes": {
          "style": {
           "borderTop": "2px solid black",
           "display": "inline-block",
           "height": "48px",
           "width": "2px"
          }
         },
         "children": [],
         "tagName": "div"
        },
        {
         "attributes": {
          "style": {
           "borderTop": "2px solid black",
           "display": "inline-block",
           "height": "44px",
           "width": "2px"
          }
         },
         "children": [],
         "tagName": "div"
        },
        {
         "attributes": {
          "style": {
           "borderTop": "2px solid black",
           "display": "inline-block",
           "height": "46px",
           "width": "2px"
          }
         },
         "children": [],
         "tagName": "div"
        },
        {
         "attributes": {
          "style": {
           "borderTop": "2px solid black",
           "display": "inline-block",
           "height": "44px",
           "width": "2px"
          }
         },
         "children": [],
         "tagName": "div"
        },
        {
         "attributes": {
          "style": {
           "borderTop": "2px solid black",
           "display": "inline-block",
           "height": "48px",
           "width": "2px"
          }
         },
         "children": [],
         "tagName": "div"
        },
        {
         "attributes": {
          "style": {
           "borderTop": "2px solid black",
           "display": "inline-block",
           "height": "50px",
           "width": "2px"
          }
         },
         "children": [],
         "tagName": "div"
        },
        {
         "attributes": {
          "style": {
           "borderTop": "2px solid black",
           "display": "inline-block",
           "height": "50px",
           "width": "2px"
          }
         },
         "children": [],
         "tagName": "div"
        },
        {
         "attributes": {
          "style": {
           "borderTop": "2px solid black",
           "display": "inline-block",
           "height": "46px",
           "width": "2px"
          }
         },
         "children": [],
         "tagName": "div"
        },
        {
         "attributes": {
          "style": {
           "borderTop": "2px solid black",
           "display": "inline-block",
           "height": "50px",
           "width": "2px"
          }
         },
         "children": [],
         "tagName": "div"
        },
        {
         "attributes": {
          "style": {
           "borderTop": "2px solid black",
           "display": "inline-block",
           "height": "54px",
           "width": "2px"
          }
         },
         "children": [],
         "tagName": "div"
        },
        {
         "attributes": {
          "style": {
           "borderTop": "2px solid black",
           "display": "inline-block",
           "height": "50px",
           "width": "2px"
          }
         },
         "children": [],
         "tagName": "div"
        },
        {
         "attributes": {
          "style": {
           "borderTop": "2px solid black",
           "display": "inline-block",
           "height": "52px",
           "width": "2px"
          }
         },
         "children": [],
         "tagName": "div"
        },
        {
         "attributes": {
          "style": {
           "borderTop": "2px solid black",
           "display": "inline-block",
           "height": "54px",
           "width": "2px"
          }
         },
         "children": [],
         "tagName": "div"
        },
        {
         "attributes": {
          "style": {
           "borderTop": "2px solid black",
           "display": "inline-block",
           "height": "56px",
           "width": "2px"
          }
         },
         "children": [],
         "tagName": "div"
        },
        {
         "attributes": {
          "style": {
           "borderTop": "2px solid black",
           "display": "inline-block",
           "height": "58px",
           "width": "2px"
          }
         },
         "children": [],
         "tagName": "div"
        },
        {
         "attributes": {
          "style": {
           "borderTop": "2px solid black",
           "display": "inline-block",
           "height": "56px",
           "width": "2px"
          }
         },
         "children": [],
         "tagName": "div"
        },
        {
         "attributes": {
          "style": {
           "borderTop": "2px solid black",
           "display": "inline-block",
           "height": "52px",
           "width": "2px"
          }
         },
         "children": [],
         "tagName": "div"
        },
        {
         "attributes": {
          "style": {
           "borderTop": "2px solid black",
           "display": "inline-block",
           "height": "56px",
           "width": "2px"
          }
         },
         "children": [],
         "tagName": "div"
        },
        {
         "attributes": {
          "style": {
           "borderTop": "2px solid black",
           "display": "inline-block",
           "height": "60px",
           "width": "2px"
          }
         },
         "children": [],
         "tagName": "div"
        },
        {
         "attributes": {
          "style": {
           "borderTop": "2px solid black",
           "display": "inline-block",
           "height": "56px",
           "width": "2px"
          }
         },
         "children": [],
         "tagName": "div"
        },
        {
         "attributes": {
          "style": {
           "borderTop": "2px solid black",
           "display": "inline-block",
           "height": "56px",
           "width": "2px"
          }
         },
         "children": [],
         "tagName": "div"
        },
        {
         "attributes": {
          "style": {
           "borderTop": "2px solid black",
           "display": "inline-block",
           "height": "54px",
           "width": "2px"
          }
         },
         "children": [],
         "tagName": "div"
        },
        {
         "attributes": {
          "style": {
           "borderTop": "2px solid black",
           "display": "inline-block",
           "height": "50px",
           "width": "2px"
          }
         },
         "children": [],
         "tagName": "div"
        },
        {
         "attributes": {
          "style": {
           "borderTop": "2px solid black",
           "display": "inline-block",
           "height": "48px",
           "width": "2px"
          }
         },
         "children": [],
         "tagName": "div"
        },
        {
         "attributes": {
          "style": {
           "borderTop": "2px solid black",
           "display": "inline-block",
           "height": "50px",
           "width": "2px"
          }
         },
         "children": [],
         "tagName": "div"
        },
        {
         "attributes": {
          "style": {
           "borderTop": "2px solid black",
           "display": "inline-block",
           "height": "54px",
           "width": "2px"
          }
         },
         "children": [],
         "tagName": "div"
        },
        {
         "attributes": {
          "style": {
           "borderTop": "2px solid black",
           "display": "inline-block",
           "height": "52px",
           "width": "2px"
          }
         },
         "children": [],
         "tagName": "div"
        },
        {
         "attributes": {
          "style": {
           "borderTop": "2px solid black",
           "display": "inline-block",
           "height": "48px",
           "width": "2px"
          }
         },
         "children": [],
         "tagName": "div"
        },
        {
         "attributes": {
          "style": {
           "borderTop": "2px solid black",
           "display": "inline-block",
           "height": "46px",
           "width": "2px"
          }
         },
         "children": [],
         "tagName": "div"
        },
        {
         "attributes": {
          "style": {
           "borderTop": "2px solid black",
           "display": "inline-block",
           "height": "50px",
           "width": "2px"
          }
         },
         "children": [],
         "tagName": "div"
        },
        {
         "attributes": {
          "style": {
           "borderTop": "2px solid black",
           "display": "inline-block",
           "height": "48px",
           "width": "2px"
          }
         },
         "children": [],
         "tagName": "div"
        },
        {
         "attributes": {
          "style": {
           "borderTop": "2px solid black",
           "display": "inline-block",
           "height": "50px",
           "width": "2px"
          }
         },
         "children": [],
         "tagName": "div"
        },
        {
         "attributes": {
          "style": {
           "borderTop": "2px solid black",
           "display": "inline-block",
           "height": "50px",
           "width": "2px"
          }
         },
         "children": [],
         "tagName": "div"
        },
        {
         "attributes": {
          "style": {
           "borderTop": "2px solid black",
           "display": "inline-block",
           "height": "46px",
           "width": "2px"
          }
         },
         "children": [],
         "tagName": "div"
        },
        {
         "attributes": {
          "style": {
           "borderTop": "2px solid black",
           "display": "inline-block",
           "height": "42px",
           "width": "2px"
          }
         },
         "children": [],
         "tagName": "div"
        },
        {
         "attributes": {
          "style": {
           "borderTop": "2px solid black",
           "display": "inline-block",
           "height": "44px",
           "width": "2px"
          }
         },
         "children": [],
         "tagName": "div"
        },
        {
         "attributes": {
          "style": {
           "borderTop": "2px solid black",
           "display": "inline-block",
           "height": "48px",
           "width": "2px"
          }
         },
         "children": [],
         "tagName": "div"
        },
        {
         "attributes": {
          "style": {
           "borderTop": "2px solid black",
           "display": "inline-block",
           "height": "50px",
           "width": "2px"
          }
         },
         "children": [],
         "tagName": "div"
        },
        {
         "attributes": {
          "style": {
           "borderTop": "2px solid black",
           "display": "inline-block",
           "height": "54px",
           "width": "2px"
          }
         },
         "children": [],
         "tagName": "div"
        },
        {
         "attributes": {
          "style": {
           "borderTop": "2px solid black",
           "display": "inline-block",
           "height": "58px",
           "width": "2px"
          }
         },
         "children": [],
         "tagName": "div"
        },
        {
         "attributes": {
          "style": {
           "borderTop": "2px solid black",
           "display": "inline-block",
           "height": "62px",
           "width": "2px"
          }
         },
         "children": [],
         "tagName": "div"
        },
        {
         "attributes": {
          "style": {
           "borderTop": "2px solid black",
           "display": "inline-block",
           "height": "58px",
           "width": "2px"
          }
         },
         "children": [],
         "tagName": "div"
        },
        {
         "attributes": {
          "style": {
           "borderTop": "2px solid black",
           "display": "inline-block",
           "height": "62px",
           "width": "2px"
          }
         },
         "children": [],
         "tagName": "div"
        },
        {
         "attributes": {
          "style": {
           "borderTop": "2px solid black",
           "display": "inline-block",
           "height": "66px",
           "width": "2px"
          }
         },
         "children": [],
         "tagName": "div"
        },
        {
         "attributes": {
          "style": {
           "borderTop": "2px solid black",
           "display": "inline-block",
           "height": "70px",
           "width": "2px"
          }
         },
         "children": [],
         "tagName": "div"
        },
        {
         "attributes": {
          "style": {
           "borderTop": "2px solid black",
           "display": "inline-block",
           "height": "74px",
           "width": "2px"
          }
         },
         "children": [],
         "tagName": "div"
        },
        {
         "attributes": {
          "style": {
           "borderTop": "2px solid black",
           "display": "inline-block",
           "height": "76px",
           "width": "2px"
          }
         },
         "children": [],
         "tagName": "div"
        },
        {
         "attributes": {
          "style": {
           "borderTop": "2px solid black",
           "display": "inline-block",
           "height": "72px",
           "width": "2px"
          }
         },
         "children": [],
         "tagName": "div"
        },
        {
         "attributes": {
          "style": {
           "borderTop": "2px solid black",
           "display": "inline-block",
           "height": "76px",
           "width": "2px"
          }
         },
         "children": [],
         "tagName": "div"
        },
        {
         "attributes": {
          "style": {
           "borderTop": "2px solid black",
           "display": "inline-block",
           "height": "72px",
           "width": "2px"
          }
         },
         "children": [],
         "tagName": "div"
        },
        {
         "attributes": {
          "style": {
           "borderTop": "2px solid black",
           "display": "inline-block",
           "height": "72px",
           "width": "2px"
          }
         },
         "children": [],
         "tagName": "div"
        },
        {
         "attributes": {
          "style": {
           "borderTop": "2px solid black",
           "display": "inline-block",
           "height": "76px",
           "width": "2px"
          }
         },
         "children": [],
         "tagName": "div"
        },
        {
         "attributes": {
          "style": {
           "borderTop": "2px solid black",
           "display": "inline-block",
           "height": "78px",
           "width": "2px"
          }
         },
         "children": [],
         "tagName": "div"
        },
        {
         "attributes": {
          "style": {
           "borderTop": "2px solid black",
           "display": "inline-block",
           "height": "82px",
           "width": "2px"
          }
         },
         "children": [],
         "tagName": "div"
        },
        {
         "attributes": {
          "style": {
           "borderTop": "2px solid black",
           "display": "inline-block",
           "height": "84px",
           "width": "2px"
          }
         },
         "children": [],
         "tagName": "div"
        },
        {
         "attributes": {
          "style": {
           "borderTop": "2px solid black",
           "display": "inline-block",
           "height": "86px",
           "width": "2px"
          }
         },
         "children": [],
         "tagName": "div"
        },
        {
         "attributes": {
          "style": {
           "borderTop": "2px solid black",
           "display": "inline-block",
           "height": "82px",
           "width": "2px"
          }
         },
         "children": [],
         "tagName": "div"
        },
        {
         "attributes": {
          "style": {
           "borderTop": "2px solid black",
           "display": "inline-block",
           "height": "80px",
           "width": "2px"
          }
         },
         "children": [],
         "tagName": "div"
        },
        {
         "attributes": {
          "style": {
           "borderTop": "2px solid black",
           "display": "inline-block",
           "height": "82px",
           "width": "2px"
          }
         },
         "children": [],
         "tagName": "div"
        },
        {
         "attributes": {
          "style": {
           "borderTop": "2px solid black",
           "display": "inline-block",
           "height": "78px",
           "width": "2px"
          }
         },
         "children": [],
         "tagName": "div"
        },
        {
         "attributes": {
          "style": {
           "borderTop": "2px solid black",
           "display": "inline-block",
           "height": "78px",
           "width": "2px"
          }
         },
         "children": [],
         "tagName": "div"
        },
        {
         "attributes": {
          "style": {
           "borderTop": "2px solid black",
           "display": "inline-block",
           "height": "74px",
           "width": "2px"
          }
         },
         "children": [],
         "tagName": "div"
        },
        {
         "attributes": {
          "style": {
           "borderTop": "2px solid black",
           "display": "inline-block",
           "height": "70px",
           "width": "2px"
          }
         },
         "children": [],
         "tagName": "div"
        },
        {
         "attributes": {
          "style": {
           "borderTop": "2px solid black",
           "display": "inline-block",
           "height": "70px",
           "width": "2px"
          }
         },
         "children": [],
         "tagName": "div"
        },
        {
         "attributes": {
          "style": {
           "borderTop": "2px solid black",
           "display": "inline-block",
           "height": "70px",
           "width": "2px"
          }
         },
         "children": [],
         "tagName": "div"
        },
        {
         "attributes": {
          "style": {
           "borderTop": "2px solid black",
           "display": "inline-block",
           "height": "66px",
           "width": "2px"
          }
         },
         "children": [],
         "tagName": "div"
        },
        {
         "attributes": {
          "style": {
           "borderTop": "2px solid black",
           "display": "inline-block",
           "height": "64px",
           "width": "2px"
          }
         },
         "children": [],
         "tagName": "div"
        },
        {
         "attributes": {
          "style": {
           "borderTop": "2px solid black",
           "display": "inline-block",
           "height": "68px",
           "width": "2px"
          }
         },
         "children": [],
         "tagName": "div"
        },
        {
         "attributes": {
          "style": {
           "borderTop": "2px solid black",
           "display": "inline-block",
           "height": "70px",
           "width": "2px"
          }
         },
         "children": [],
         "tagName": "div"
        },
        {
         "attributes": {
          "style": {
           "borderTop": "2px solid black",
           "display": "inline-block",
           "height": "70px",
           "width": "2px"
          }
         },
         "children": [],
         "tagName": "div"
        },
        {
         "attributes": {
          "style": {
           "borderTop": "2px solid black",
           "display": "inline-block",
           "height": "74px",
           "width": "2px"
          }
         },
         "children": [],
         "tagName": "div"
        },
        {
         "attributes": {
          "style": {
           "borderTop": "2px solid black",
           "display": "inline-block",
           "height": "74px",
           "width": "2px"
          }
         },
         "children": [],
         "tagName": "div"
        },
        {
         "attributes": {
          "style": {
           "borderTop": "2px solid black",
           "display": "inline-block",
           "height": "78px",
           "width": "2px"
          }
         },
         "children": [],
         "tagName": "div"
        },
        {
         "attributes": {
          "style": {
           "borderTop": "2px solid black",
           "display": "inline-block",
           "height": "78px",
           "width": "2px"
          }
         },
         "children": [],
         "tagName": "div"
        },
        {
         "attributes": {
          "style": {
           "borderTop": "2px solid black",
           "display": "inline-block",
           "height": "80px",
           "width": "2px"
          }
         },
         "children": [],
         "tagName": "div"
        },
        {
         "attributes": {
          "style": {
           "borderTop": "2px solid black",
           "display": "inline-block",
           "height": "82px",
           "width": "2px"
          }
         },
         "children": [],
         "tagName": "div"
        },
        {
         "attributes": {
          "style": {
           "borderTop": "2px solid black",
           "display": "inline-block",
           "height": "78px",
           "width": "2px"
          }
         },
         "children": [],
         "tagName": "div"
        },
        {
         "attributes": {
          "style": {
           "borderTop": "2px solid black",
           "display": "inline-block",
           "height": "78px",
           "width": "2px"
          }
         },
         "children": [],
         "tagName": "div"
        },
        {
         "attributes": {
          "style": {
           "borderTop": "2px solid black",
           "display": "inline-block",
           "height": "76px",
           "width": "2px"
          }
         },
         "children": [],
         "tagName": "div"
        },
        {
         "attributes": {
          "style": {
           "borderTop": "2px solid black",
           "display": "inline-block",
           "height": "80px",
           "width": "2px"
          }
         },
         "children": [],
         "tagName": "div"
        },
        {
         "attributes": {
          "style": {
           "borderTop": "2px solid black",
           "display": "inline-block",
           "height": "80px",
           "width": "2px"
          }
         },
         "children": [],
         "tagName": "div"
        },
        {
         "attributes": {
          "style": {
           "borderTop": "2px solid black",
           "display": "inline-block",
           "height": "78px",
           "width": "2px"
          }
         },
         "children": [],
         "tagName": "div"
        },
        {
         "attributes": {
          "style": {
           "borderTop": "2px solid black",
           "display": "inline-block",
           "height": "80px",
           "width": "2px"
          }
         },
         "children": [],
         "tagName": "div"
        },
        {
         "attributes": {
          "style": {
           "borderTop": "2px solid black",
           "display": "inline-block",
           "height": "78px",
           "width": "2px"
          }
         },
         "children": [],
         "tagName": "div"
        },
        {
         "attributes": {
          "style": {
           "borderTop": "2px solid black",
           "display": "inline-block",
           "height": "78px",
           "width": "2px"
          }
         },
         "children": [],
         "tagName": "div"
        },
        {
         "attributes": {
          "style": {
           "borderTop": "2px solid black",
           "display": "inline-block",
           "height": "76px",
           "width": "2px"
          }
         },
         "children": [],
         "tagName": "div"
        },
        {
         "attributes": {
          "style": {
           "borderTop": "2px solid black",
           "display": "inline-block",
           "height": "74px",
           "width": "2px"
          }
         },
         "children": [],
         "tagName": "div"
        },
        {
         "attributes": {
          "style": {
           "borderTop": "2px solid black",
           "display": "inline-block",
           "height": "76px",
           "width": "2px"
          }
         },
         "children": [],
         "tagName": "div"
        },
        {
         "attributes": {
          "style": {
           "borderTop": "2px solid black",
           "display": "inline-block",
           "height": "80px",
           "width": "2px"
          }
         },
         "children": [],
         "tagName": "div"
        },
        {
         "attributes": {
          "style": {
           "borderTop": "2px solid black",
           "display": "inline-block",
           "height": "84px",
           "width": "2px"
          }
         },
         "children": [],
         "tagName": "div"
        },
        {
         "attributes": {
          "style": {
           "borderTop": "2px solid black",
           "display": "inline-block",
           "height": "86px",
           "width": "2px"
          }
         },
         "children": [],
         "tagName": "div"
        },
        {
         "attributes": {
          "style": {
           "borderTop": "2px solid black",
           "display": "inline-block",
           "height": "86px",
           "width": "2px"
          }
         },
         "children": [],
         "tagName": "div"
        },
        {
         "attributes": {
          "style": {
           "borderTop": "2px solid black",
           "display": "inline-block",
           "height": "86px",
           "width": "2px"
          }
         },
         "children": [],
         "tagName": "div"
        },
        {
         "attributes": {
          "style": {
           "borderTop": "3px solid red",
           "display": "inline-block",
           "height": "88px",
           "width": "3px"
          }
         },
         "children": [],
         "tagName": "div"
        }
       ],
       "eventHandlers": {
        "on_click": "-9223372036580735433_on_click"
       },
       "tagName": "div"
      },
      "text/html": [
       "<div style=\"display: inline-block; padding-top: 50px\"><div style=\"border-top: 2px solid black; display: inline-block; height: 50px; width: 2px\"></div><div style=\"border-top: 2px solid black; display: inline-block; height: 46px; width: 2px\"></div><div style=\"border-top: 2px solid black; display: inline-block; height: 46px; width: 2px\"></div><div style=\"border-top: 2px solid black; display: inline-block; height: 46px; width: 2px\"></div><div style=\"border-top: 2px solid black; display: inline-block; height: 42px; width: 2px\"></div><div style=\"border-top: 2px solid black; display: inline-block; height: 46px; width: 2px\"></div><div style=\"border-top: 2px solid black; display: inline-block; height: 48px; width: 2px\"></div><div style=\"border-top: 2px solid black; display: inline-block; height: 48px; width: 2px\"></div><div style=\"border-top: 2px solid black; display: inline-block; height: 44px; width: 2px\"></div><div style=\"border-top: 2px solid black; display: inline-block; height: 46px; width: 2px\"></div><div style=\"border-top: 2px solid black; display: inline-block; height: 44px; width: 2px\"></div><div style=\"border-top: 2px solid black; display: inline-block; height: 48px; width: 2px\"></div><div style=\"border-top: 2px solid black; display: inline-block; height: 50px; width: 2px\"></div><div style=\"border-top: 2px solid black; display: inline-block; height: 50px; width: 2px\"></div><div style=\"border-top: 2px solid black; display: inline-block; height: 46px; width: 2px\"></div><div style=\"border-top: 2px solid black; display: inline-block; height: 50px; width: 2px\"></div><div style=\"border-top: 2px solid black; display: inline-block; height: 54px; width: 2px\"></div><div style=\"border-top: 2px solid black; display: inline-block; height: 50px; width: 2px\"></div><div style=\"border-top: 2px solid black; display: inline-block; height: 52px; width: 2px\"></div><div style=\"border-top: 2px solid black; display: inline-block; height: 54px; width: 2px\"></div><div style=\"border-top: 2px solid black; display: inline-block; height: 56px; width: 2px\"></div><div style=\"border-top: 2px solid black; display: inline-block; height: 58px; width: 2px\"></div><div style=\"border-top: 2px solid black; display: inline-block; height: 56px; width: 2px\"></div><div style=\"border-top: 2px solid black; display: inline-block; height: 52px; width: 2px\"></div><div style=\"border-top: 2px solid black; display: inline-block; height: 56px; width: 2px\"></div><div style=\"border-top: 2px solid black; display: inline-block; height: 60px; width: 2px\"></div><div style=\"border-top: 2px solid black; display: inline-block; height: 56px; width: 2px\"></div><div style=\"border-top: 2px solid black; display: inline-block; height: 56px; width: 2px\"></div><div style=\"border-top: 2px solid black; display: inline-block; height: 54px; width: 2px\"></div><div style=\"border-top: 2px solid black; display: inline-block; height: 50px; width: 2px\"></div><div style=\"border-top: 2px solid black; display: inline-block; height: 48px; width: 2px\"></div><div style=\"border-top: 2px solid black; display: inline-block; height: 50px; width: 2px\"></div><div style=\"border-top: 2px solid black; display: inline-block; height: 54px; width: 2px\"></div><div style=\"border-top: 2px solid black; display: inline-block; height: 52px; width: 2px\"></div><div style=\"border-top: 2px solid black; display: inline-block; height: 48px; width: 2px\"></div><div style=\"border-top: 2px solid black; display: inline-block; height: 46px; width: 2px\"></div><div style=\"border-top: 2px solid black; display: inline-block; height: 50px; width: 2px\"></div><div style=\"border-top: 2px solid black; display: inline-block; height: 48px; width: 2px\"></div><div style=\"border-top: 2px solid black; display: inline-block; height: 50px; width: 2px\"></div><div style=\"border-top: 2px solid black; display: inline-block; height: 50px; width: 2px\"></div><div style=\"border-top: 2px solid black; display: inline-block; height: 46px; width: 2px\"></div><div style=\"border-top: 2px solid black; display: inline-block; height: 42px; width: 2px\"></div><div style=\"border-top: 2px solid black; display: inline-block; height: 44px; width: 2px\"></div><div style=\"border-top: 2px solid black; display: inline-block; height: 48px; width: 2px\"></div><div style=\"border-top: 2px solid black; display: inline-block; height: 50px; width: 2px\"></div><div style=\"border-top: 2px solid black; display: inline-block; height: 54px; width: 2px\"></div><div style=\"border-top: 2px solid black; display: inline-block; height: 58px; width: 2px\"></div><div style=\"border-top: 2px solid black; display: inline-block; height: 62px; width: 2px\"></div><div style=\"border-top: 2px solid black; display: inline-block; height: 58px; width: 2px\"></div><div style=\"border-top: 2px solid black; display: inline-block; height: 62px; width: 2px\"></div><div style=\"border-top: 2px solid black; display: inline-block; height: 66px; width: 2px\"></div><div style=\"border-top: 2px solid black; display: inline-block; height: 70px; width: 2px\"></div><div style=\"border-top: 2px solid black; display: inline-block; height: 74px; width: 2px\"></div><div style=\"border-top: 2px solid black; display: inline-block; height: 76px; width: 2px\"></div><div style=\"border-top: 2px solid black; display: inline-block; height: 72px; width: 2px\"></div><div style=\"border-top: 2px solid black; display: inline-block; height: 76px; width: 2px\"></div><div style=\"border-top: 2px solid black; display: inline-block; height: 72px; width: 2px\"></div><div style=\"border-top: 2px solid black; display: inline-block; height: 72px; width: 2px\"></div><div style=\"border-top: 2px solid black; display: inline-block; height: 76px; width: 2px\"></div><div style=\"border-top: 2px solid black; display: inline-block; height: 78px; width: 2px\"></div><div style=\"border-top: 2px solid black; display: inline-block; height: 82px; width: 2px\"></div><div style=\"border-top: 2px solid black; display: inline-block; height: 84px; width: 2px\"></div><div style=\"border-top: 2px solid black; display: inline-block; height: 86px; width: 2px\"></div><div style=\"border-top: 2px solid black; display: inline-block; height: 82px; width: 2px\"></div><div style=\"border-top: 2px solid black; display: inline-block; height: 80px; width: 2px\"></div><div style=\"border-top: 2px solid black; display: inline-block; height: 82px; width: 2px\"></div><div style=\"border-top: 2px solid black; display: inline-block; height: 78px; width: 2px\"></div><div style=\"border-top: 2px solid black; display: inline-block; height: 78px; width: 2px\"></div><div style=\"border-top: 2px solid black; display: inline-block; height: 74px; width: 2px\"></div><div style=\"border-top: 2px solid black; display: inline-block; height: 70px; width: 2px\"></div><div style=\"border-top: 2px solid black; display: inline-block; height: 70px; width: 2px\"></div><div style=\"border-top: 2px solid black; display: inline-block; height: 70px; width: 2px\"></div><div style=\"border-top: 2px solid black; display: inline-block; height: 66px; width: 2px\"></div><div style=\"border-top: 2px solid black; display: inline-block; height: 64px; width: 2px\"></div><div style=\"border-top: 2px solid black; display: inline-block; height: 68px; width: 2px\"></div><div style=\"border-top: 2px solid black; display: inline-block; height: 70px; width: 2px\"></div><div style=\"border-top: 2px solid black; display: inline-block; height: 70px; width: 2px\"></div><div style=\"border-top: 2px solid black; display: inline-block; height: 74px; width: 2px\"></div><div style=\"border-top: 2px solid black; display: inline-block; height: 74px; width: 2px\"></div><div style=\"border-top: 2px solid black; display: inline-block; height: 78px; width: 2px\"></div><div style=\"border-top: 2px solid black; display: inline-block; height: 78px; width: 2px\"></div><div style=\"border-top: 2px solid black; display: inline-block; height: 80px; width: 2px\"></div><div style=\"border-top: 2px solid black; display: inline-block; height: 82px; width: 2px\"></div><div style=\"border-top: 2px solid black; display: inline-block; height: 78px; width: 2px\"></div><div style=\"border-top: 2px solid black; display: inline-block; height: 78px; width: 2px\"></div><div style=\"border-top: 2px solid black; display: inline-block; height: 76px; width: 2px\"></div><div style=\"border-top: 2px solid black; display: inline-block; height: 80px; width: 2px\"></div><div style=\"border-top: 2px solid black; display: inline-block; height: 80px; width: 2px\"></div><div style=\"border-top: 2px solid black; display: inline-block; height: 78px; width: 2px\"></div><div style=\"border-top: 2px solid black; display: inline-block; height: 80px; width: 2px\"></div><div style=\"border-top: 2px solid black; display: inline-block; height: 78px; width: 2px\"></div><div style=\"border-top: 2px solid black; display: inline-block; height: 78px; width: 2px\"></div><div style=\"border-top: 2px solid black; display: inline-block; height: 76px; width: 2px\"></div><div style=\"border-top: 2px solid black; display: inline-block; height: 74px; width: 2px\"></div><div style=\"border-top: 2px solid black; display: inline-block; height: 76px; width: 2px\"></div><div style=\"border-top: 2px solid black; display: inline-block; height: 80px; width: 2px\"></div><div style=\"border-top: 2px solid black; display: inline-block; height: 84px; width: 2px\"></div><div style=\"border-top: 2px solid black; display: inline-block; height: 86px; width: 2px\"></div><div style=\"border-top: 2px solid black; display: inline-block; height: 86px; width: 2px\"></div><div style=\"border-top: 2px solid black; display: inline-block; height: 86px; width: 2px\"></div><div style=\"border-top: 3px solid red; display: inline-block; height: 88px; width: 3px\"></div></div>"
      ],
      "text/plain": [
       "<div style=\"display: inline-block; padding-top: 50px\"><div style=\"border-top: 2px solid black; display: inline-block; height: 50px; width: 2px\"></div><div style=\"border-top: 2px solid black; display: inline-block; height: 46px; width: 2px\"></div><div style=\"border-top: 2px solid black; display: inline-block; height: 46px; width: 2px\"></div><div style=\"border-top: 2px solid black; display: inline-block; height: 46px; width: 2px\"></div><div style=\"border-top: 2px solid black; display: inline-block; height: 42px; width: 2px\"></div><div style=\"border-top: 2px solid black; display: inline-block; height: 46px; width: 2px\"></div><div style=\"border-top: 2px solid black; display: inline-block; height: 48px; width: 2px\"></div><div style=\"border-top: 2px solid black; display: inline-block; height: 48px; width: 2px\"></div><div style=\"border-top: 2px solid black; display: inline-block; height: 44px; width: 2px\"></div><div style=\"border-top: 2px solid black; display: inline-block; height: 46px; width: 2px\"></div><div style=\"border-top: 2px solid black; display: inline-block; height: 44px; width: 2px\"></div><div style=\"border-top: 2px solid black; display: inline-block; height: 48px; width: 2px\"></div><div style=\"border-top: 2px solid black; display: inline-block; height: 50px; width: 2px\"></div><div style=\"border-top: 2px solid black; display: inline-block; height: 50px; width: 2px\"></div><div style=\"border-top: 2px solid black; display: inline-block; height: 46px; width: 2px\"></div><div style=\"border-top: 2px solid black; display: inline-block; height: 50px; width: 2px\"></div><div style=\"border-top: 2px solid black; display: inline-block; height: 54px; width: 2px\"></div><div style=\"border-top: 2px solid black; display: inline-block; height: 50px; width: 2px\"></div><div style=\"border-top: 2px solid black; display: inline-block; height: 52px; width: 2px\"></div><div style=\"border-top: 2px solid black; display: inline-block; height: 54px; width: 2px\"></div><div style=\"border-top: 2px solid black; display: inline-block; height: 56px; width: 2px\"></div><div style=\"border-top: 2px solid black; display: inline-block; height: 58px; width: 2px\"></div><div style=\"border-top: 2px solid black; display: inline-block; height: 56px; width: 2px\"></div><div style=\"border-top: 2px solid black; display: inline-block; height: 52px; width: 2px\"></div><div style=\"border-top: 2px solid black; display: inline-block; height: 56px; width: 2px\"></div><div style=\"border-top: 2px solid black; display: inline-block; height: 60px; width: 2px\"></div><div style=\"border-top: 2px solid black; display: inline-block; height: 56px; width: 2px\"></div><div style=\"border-top: 2px solid black; display: inline-block; height: 56px; width: 2px\"></div><div style=\"border-top: 2px solid black; display: inline-block; height: 54px; width: 2px\"></div><div style=\"border-top: 2px solid black; display: inline-block; height: 50px; width: 2px\"></div><div style=\"border-top: 2px solid black; display: inline-block; height: 48px; width: 2px\"></div><div style=\"border-top: 2px solid black; display: inline-block; height: 50px; width: 2px\"></div><div style=\"border-top: 2px solid black; display: inline-block; height: 54px; width: 2px\"></div><div style=\"border-top: 2px solid black; display: inline-block; height: 52px; width: 2px\"></div><div style=\"border-top: 2px solid black; display: inline-block; height: 48px; width: 2px\"></div><div style=\"border-top: 2px solid black; display: inline-block; height: 46px; width: 2px\"></div><div style=\"border-top: 2px solid black; display: inline-block; height: 50px; width: 2px\"></div><div style=\"border-top: 2px solid black; display: inline-block; height: 48px; width: 2px\"></div><div style=\"border-top: 2px solid black; display: inline-block; height: 50px; width: 2px\"></div><div style=\"border-top: 2px solid black; display: inline-block; height: 50px; width: 2px\"></div><div style=\"border-top: 2px solid black; display: inline-block; height: 46px; width: 2px\"></div><div style=\"border-top: 2px solid black; display: inline-block; height: 42px; width: 2px\"></div><div style=\"border-top: 2px solid black; display: inline-block; height: 44px; width: 2px\"></div><div style=\"border-top: 2px solid black; display: inline-block; height: 48px; width: 2px\"></div><div style=\"border-top: 2px solid black; display: inline-block; height: 50px; width: 2px\"></div><div style=\"border-top: 2px solid black; display: inline-block; height: 54px; width: 2px\"></div><div style=\"border-top: 2px solid black; display: inline-block; height: 58px; width: 2px\"></div><div style=\"border-top: 2px solid black; display: inline-block; height: 62px; width: 2px\"></div><div style=\"border-top: 2px solid black; display: inline-block; height: 58px; width: 2px\"></div><div style=\"border-top: 2px solid black; display: inline-block; height: 62px; width: 2px\"></div><div style=\"border-top: 2px solid black; display: inline-block; height: 66px; width: 2px\"></div><div style=\"border-top: 2px solid black; display: inline-block; height: 70px; width: 2px\"></div><div style=\"border-top: 2px solid black; display: inline-block; height: 74px; width: 2px\"></div><div style=\"border-top: 2px solid black; display: inline-block; height: 76px; width: 2px\"></div><div style=\"border-top: 2px solid black; display: inline-block; height: 72px; width: 2px\"></div><div style=\"border-top: 2px solid black; display: inline-block; height: 76px; width: 2px\"></div><div style=\"border-top: 2px solid black; display: inline-block; height: 72px; width: 2px\"></div><div style=\"border-top: 2px solid black; display: inline-block; height: 72px; width: 2px\"></div><div style=\"border-top: 2px solid black; display: inline-block; height: 76px; width: 2px\"></div><div style=\"border-top: 2px solid black; display: inline-block; height: 78px; width: 2px\"></div><div style=\"border-top: 2px solid black; display: inline-block; height: 82px; width: 2px\"></div><div style=\"border-top: 2px solid black; display: inline-block; height: 84px; width: 2px\"></div><div style=\"border-top: 2px solid black; display: inline-block; height: 86px; width: 2px\"></div><div style=\"border-top: 2px solid black; display: inline-block; height: 82px; width: 2px\"></div><div style=\"border-top: 2px solid black; display: inline-block; height: 80px; width: 2px\"></div><div style=\"border-top: 2px solid black; display: inline-block; height: 82px; width: 2px\"></div><div style=\"border-top: 2px solid black; display: inline-block; height: 78px; width: 2px\"></div><div style=\"border-top: 2px solid black; display: inline-block; height: 78px; width: 2px\"></div><div style=\"border-top: 2px solid black; display: inline-block; height: 74px; width: 2px\"></div><div style=\"border-top: 2px solid black; display: inline-block; height: 70px; width: 2px\"></div><div style=\"border-top: 2px solid black; display: inline-block; height: 70px; width: 2px\"></div><div style=\"border-top: 2px solid black; display: inline-block; height: 70px; width: 2px\"></div><div style=\"border-top: 2px solid black; display: inline-block; height: 66px; width: 2px\"></div><div style=\"border-top: 2px solid black; display: inline-block; height: 64px; width: 2px\"></div><div style=\"border-top: 2px solid black; display: inline-block; height: 68px; width: 2px\"></div><div style=\"border-top: 2px solid black; display: inline-block; height: 70px; width: 2px\"></div><div style=\"border-top: 2px solid black; display: inline-block; height: 70px; width: 2px\"></div><div style=\"border-top: 2px solid black; display: inline-block; height: 74px; width: 2px\"></div><div style=\"border-top: 2px solid black; display: inline-block; height: 74px; width: 2px\"></div><div style=\"border-top: 2px solid black; display: inline-block; height: 78px; width: 2px\"></div><div style=\"border-top: 2px solid black; display: inline-block; height: 78px; width: 2px\"></div><div style=\"border-top: 2px solid black; display: inline-block; height: 80px; width: 2px\"></div><div style=\"border-top: 2px solid black; display: inline-block; height: 82px; width: 2px\"></div><div style=\"border-top: 2px solid black; display: inline-block; height: 78px; width: 2px\"></div><div style=\"border-top: 2px solid black; display: inline-block; height: 78px; width: 2px\"></div><div style=\"border-top: 2px solid black; display: inline-block; height: 76px; width: 2px\"></div><div style=\"border-top: 2px solid black; display: inline-block; height: 80px; width: 2px\"></div><div style=\"border-top: 2px solid black; display: inline-block; height: 80px; width: 2px\"></div><div style=\"border-top: 2px solid black; display: inline-block; height: 78px; width: 2px\"></div><div style=\"border-top: 2px solid black; display: inline-block; height: 80px; width: 2px\"></div><div style=\"border-top: 2px solid black; display: inline-block; height: 78px; width: 2px\"></div><div style=\"border-top: 2px solid black; display: inline-block; height: 78px; width: 2px\"></div><div style=\"border-top: 2px solid black; display: inline-block; height: 76px; width: 2px\"></div><div style=\"border-top: 2px solid black; display: inline-block; height: 74px; width: 2px\"></div><div style=\"border-top: 2px solid black; display: inline-block; height: 76px; width: 2px\"></div><div style=\"border-top: 2px solid black; display: inline-block; height: 80px; width: 2px\"></div><div style=\"border-top: 2px solid black; display: inline-block; height: 84px; width: 2px\"></div><div style=\"border-top: 2px solid black; display: inline-block; height: 86px; width: 2px\"></div><div style=\"border-top: 2px solid black; display: inline-block; height: 86px; width: 2px\"></div><div style=\"border-top: 2px solid black; display: inline-block; height: 86px; width: 2px\"></div><div style=\"border-top: 3px solid red; display: inline-block; height: 88px; width: 3px\"></div></div>"
      ]
     },
     "metadata": {},
     "output_type": "display_data"
    }
   ],
   "source": [
    "events = []\n",
    "handle = display( \n",
    "    sparklines(events),\n",
    "    display_id=True\n",
    ")\n",
    "\n",
    "def tick(num=500, step=2):\n",
    "    events = [25]\n",
    "    for _ in range(num):\n",
    "        event = max(min(events[-1] + random.randint(-step, step), 50), 0)\n",
    "        events.append(event)\n",
    "        time.sleep(.1)\n",
    "        handle.update(sparklines(events))"
   ]
  },
  {
   "cell_type": "code",
   "execution_count": 51,
   "metadata": {
    "inputHidden": false,
    "outputHidden": false
   },
   "outputs": [],
   "source": [
    "tick(100)"
   ]
  },
  {
   "cell_type": "markdown",
   "metadata": {
    "inputHidden": false,
    "outputHidden": false
   },
   "source": [
    "### events example"
   ]
  },
  {
   "cell_type": "code",
   "execution_count": 43,
   "metadata": {},
   "outputs": [
    {
     "data": {
      "application/vdom.v1+json": {
       "attributes": {
        "style": {
         "background-color": "black",
         "height": "100px",
         "width": "100px"
        }
       },
       "children": [],
       "eventHandlers": {
        "onDrag": "273651588_onDrag"
       },
       "tagName": "div"
      },
      "text/html": [
       "<div style=\"background-color: black; height: 100px; width: 100px\"></div>"
      ],
      "text/plain": [
       "<div style=\"background-color: black; height: 100px; width: 100px\"></div>"
      ]
     },
     "metadata": {},
     "output_type": "display_data"
    }
   ],
   "source": [
    "my_div = div(\n",
    "    onDrag=lambda : print('OK'),\n",
    "    style={\"background-color\": \"black\", \"width\": \"100px\", \"height\": \"100px\"},\n",
    ")\n",
    "\n",
    "handler = display(my_div, display_id=True)\n",
    "def my_on_click():\n",
    "    import pdb; pdb.set_trace()\n",
    "    handler.update(\n",
    "        div(\n",
    "            style={\"background-color\": \"red\", \"width\": \"100px\", \"height\": \"100px\"},\n",
    "            display_id=\"2b8e5bd33248dba43fc2dc367035edda\"\n",
    "           )\n",
    ")\n",
    "    \n",
    "\n"
   ]
  },
  {
   "cell_type": "code",
   "execution_count": 42,
   "metadata": {},
   "outputs": [
    {
     "data": {
      "text/plain": [
       "<DisplayHandle display_id=2b8e5bd33248dba43fc2dc367035edda>"
      ]
     },
     "execution_count": 42,
     "metadata": {},
     "output_type": "execute_result"
    }
   ],
   "source": [
    "handler"
   ]
  },
  {
   "cell_type": "code",
   "execution_count": 28,
   "metadata": {},
   "outputs": [
    {
     "data": {
      "application/vdom.v1+json": {
       "attributes": {
        "display_id": true,
        "style": {
         "background-color": "red",
         "height": "100px",
         "width": "100px"
        }
       },
       "children": [],
       "eventHandlers": {
        "on_click": "273655530_on_click"
       },
       "tagName": "div"
      },
      "text/html": [
       "<div style=\"background-color: red; height: 100px; width: 100px\" display_id></div>"
      ],
      "text/plain": [
       "<div style=\"background-color: red; height: 100px; width: 100px\" display_id></div>"
      ]
     },
     "metadata": {},
     "output_type": "display_data"
    }
   ],
   "source": [
    "handle = display(my_div, display_id=True)\n",
    "time.sleep(1)\n",
    "handle.update(\n",
    "        div(on_click=my_on_click,\n",
    "            style={\"background-color\": \"red\", \"width\": \"100px\", \"height\": \"100px\"},\n",
    "           display_id=True)\n",
    ")"
   ]
  },
  {
   "cell_type": "code",
   "execution_count": 24,
   "metadata": {},
   "outputs": [],
   "source": [
    "handler"
   ]
  },
  {
   "cell_type": "code",
   "execution_count": null,
   "metadata": {},
   "outputs": [],
   "source": []
  }
 ],
 "metadata": {
  "kernel_info": {
   "name": "python3"
  },
  "kernelspec": {
   "display_name": "Python 3",
   "language": "python",
   "name": "python3"
  },
  "language_info": {
   "codemirror_mode": {
    "name": "ipython",
    "version": 3
   },
   "file_extension": ".py",
   "mimetype": "text/x-python",
   "name": "python",
   "nbconvert_exporter": "python",
   "pygments_lexer": "ipython3",
   "version": "3.7.2"
  },
  "nteract": {
   "version": "0.7.1"
  }
 },
 "nbformat": 4,
 "nbformat_minor": 4
}
